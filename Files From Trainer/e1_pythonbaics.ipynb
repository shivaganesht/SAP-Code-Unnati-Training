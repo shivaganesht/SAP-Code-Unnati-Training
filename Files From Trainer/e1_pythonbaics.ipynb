{
 "cells": [
  {
   "cell_type": "code",
   "execution_count": 1,
   "metadata": {},
   "outputs": [
    {
     "name": "stdout",
     "output_type": "stream",
     "text": [
      "10 edureka!\n"
     ]
    }
   ],
   "source": [
    "A = 10\n",
    "B = 'edureka!'\n",
    "print(A,B)\n"
   ]
  },
  {
   "cell_type": "code",
   "execution_count": 3,
   "metadata": {},
   "outputs": [
    {
     "name": "stdout",
     "output_type": "stream",
     "text": [
      "140733211255664\n",
      "140733211255792\n",
      "1583314840880\n",
      "1583314280272\n"
     ]
    }
   ],
   "source": [
    "a = 16\n",
    "print(id(a))\n",
    "b = 20\n",
    "print(id(b))\n",
    "b ='edureka'\n",
    "print(id(b))\n",
    "b = 12.22\n",
    "print(id(b))"
   ]
  },
  {
   "cell_type": "code",
   "execution_count": 4,
   "metadata": {},
   "outputs": [
    {
     "name": "stdout",
     "output_type": "stream",
     "text": [
      "Enter your input: python\n",
      "Received input is:  python\n"
     ]
    }
   ],
   "source": [
    "str=input(\"Enter your input: \")\n",
    "print(\"Received input is: \",str)\n"
   ]
  },
  {
   "cell_type": "code",
   "execution_count": 5,
   "metadata": {},
   "outputs": [
    {
     "name": "stdout",
     "output_type": "stream",
     "text": [
      "Original ID of lang variable --> 1583279642032\n",
      "ID after assigning new value Python to lang variable --> 1583271998832\n"
     ]
    }
   ],
   "source": [
    "lang = 'Java'\n",
    "print('Original ID of lang variable -->',id(lang))\n",
    "lang = 'Python'\n",
    "print('ID after assigning new value Python to lang variable -->',id(lang))"
   ]
  },
  {
   "cell_type": "code",
   "execution_count": 6,
   "metadata": {},
   "outputs": [
    {
     "name": "stdout",
     "output_type": "stream",
     "text": [
      "Original ID of the list --> 1583314773192\n",
      "ID of the list after appending 5 --> 1583314773192\n"
     ]
    }
   ],
   "source": [
    "lst = [1,2,3,4]\n",
    "print('Original ID of the list -->',id(lst))\n",
    "lst.append(5)\n",
    "print('ID of the list after appending 5 -->',id(lst))"
   ]
  },
  {
   "cell_type": "code",
   "execution_count": 7,
   "metadata": {},
   "outputs": [
    {
     "name": "stdout",
     "output_type": "stream",
     "text": [
      "10 10.65 (10+6j)\n"
     ]
    }
   ],
   "source": [
    "A = 10\n",
    "B = 10.65\n",
    "C = 10+6j\n",
    "print(A,B,C)\n"
   ]
  },
  {
   "cell_type": "code",
   "execution_count": 8,
   "metadata": {},
   "outputs": [
    {
     "name": "stdout",
     "output_type": "stream",
     "text": [
      "Welcome To edureka! Python is Great  High \n",
      "\tlevel  Programming\n",
      "\tLanguage\n"
     ]
    }
   ],
   "source": [
    "A = 'Welcome To edureka!'\n",
    "B = \"Python is Great\"\n",
    "C = ''' High \n",
    "\tlevel '''\n",
    "D = \"\"\"Programming\n",
    "\tLanguage\"\"\"\n",
    "print(A,B,C,D)\n"
   ]
  },
  {
   "cell_type": "code",
   "execution_count": 10,
   "metadata": {},
   "outputs": [
    {
     "name": "stdout",
     "output_type": "stream",
     "text": [
      "(1, 2, 3.15, 'edureka!')\n"
     ]
    }
   ],
   "source": [
    "A=(1,2,3.15,'edureka!')\n",
    "print(A)"
   ]
  },
  {
   "cell_type": "code",
   "execution_count": 11,
   "metadata": {},
   "outputs": [
    {
     "name": "stdout",
     "output_type": "stream",
     "text": [
      "{'Age': 24, 'Name': 'John'}\n"
     ]
    }
   ],
   "source": [
    "A={'Age':24 ,'Name':'John' }\n",
    "print(A)"
   ]
  },
  {
   "cell_type": "code",
   "execution_count": 12,
   "metadata": {},
   "outputs": [
    {
     "name": "stdout",
     "output_type": "stream",
     "text": [
      "{1, 2, 3}\n"
     ]
    }
   ],
   "source": [
    "A={1,2,3,3}\n",
    "print(A)"
   ]
  },
  {
   "cell_type": "code",
   "execution_count": 13,
   "metadata": {},
   "outputs": [
    {
     "name": "stdout",
     "output_type": "stream",
     "text": [
      "X is less than Y\n"
     ]
    }
   ],
   "source": [
    "X=10\n",
    "Y=12\n",
    "if X<Y:\n",
    "    print('X is less than Y')\n",
    "elif X>Y:\n",
    "    print('X is greater than Y')\n",
    "else:\n",
    "    print('X and Y are equal')\n"
   ]
  },
  {
   "cell_type": "code",
   "execution_count": 15,
   "metadata": {},
   "outputs": [
    {
     "name": "stdout",
     "output_type": "stream",
     "text": [
      "0\n",
      "1\n",
      "2\n",
      "3\n",
      "4\n",
      "5\n",
      "6\n",
      "7\n",
      "8\n",
      "9\n",
      "After While!\n"
     ]
    }
   ],
   "source": [
    "count=0\n",
    "while count<10:\n",
    "    print(count)\n",
    "    count=count+1\n",
    "else: \n",
    "    print(\"After While!\")\n"
   ]
  },
  {
   "cell_type": "code",
   "execution_count": 17,
   "metadata": {},
   "outputs": [
    {
     "name": "stdout",
     "output_type": "stream",
     "text": [
      "Banana\n",
      "Apple\n",
      "Grapes\n"
     ]
    }
   ],
   "source": [
    "fruits=['Banana','Apple','Grapes']\n",
    "for index in range(len(fruits)):\n",
    "    print(fruits[index])\n"
   ]
  },
  {
   "cell_type": "code",
   "execution_count": 20,
   "metadata": {},
   "outputs": [
    {
     "name": "stdout",
     "output_type": "stream",
     "text": [
      "\n",
      "\n",
      "1 \n",
      "\n",
      "1 2 \n",
      "\n",
      "1 2 3 \n",
      "\n",
      "1 2 3 4 \n",
      "\n",
      "1 2 3 4 5 \n",
      "\n"
     ]
    }
   ],
   "source": [
    "n = 5\n",
    "for i in range(1,n+2):\n",
    "    for j in range(1,i):\n",
    "        print(j,end=\" \")\n",
    "    print(\"\\n\")\n"
   ]
  },
  {
   "cell_type": "code",
   "execution_count": 21,
   "metadata": {},
   "outputs": [
    {
     "name": "stdout",
     "output_type": "stream",
     "text": [
      "[8, 3]\n",
      "[14, 5]\n"
     ]
    }
   ],
   "source": [
    "X=[[2,3],[4,5]]\n",
    "Y=[[1,0],  [2,1]]\n",
    "result=[[0,0],\n",
    "       [0,0]]\n",
    "#iterating through ‘x’ rows\n",
    "for i in range(len(X)):\n",
    "   #iterating through ‘y’ columns\n",
    "   for j in range(len(Y[0])):\n",
    "       #iterating through ‘y’ rows\n",
    "       for k in range(len(Y)):\n",
    "           result[i][j] += X[i][k] * Y[k][j]\n",
    "for r in result:\n",
    "    print(r)\n"
   ]
  },
  {
   "cell_type": "code",
   "execution_count": 23,
   "metadata": {},
   "outputs": [
    {
     "name": "stdout",
     "output_type": "stream",
     "text": [
      "1\n",
      "2\n",
      "3\n",
      "4\n"
     ]
    }
   ],
   "source": [
    "for i in range(1,11):\n",
    "    if i==5:\n",
    "        break\n",
    "    print(i)\n"
   ]
  },
  {
   "cell_type": "code",
   "execution_count": 24,
   "metadata": {},
   "outputs": [
    {
     "name": "stdout",
     "output_type": "stream",
     "text": [
      "1\n",
      "2\n",
      "3\n",
      "4\n",
      "6\n",
      "7\n",
      "8\n",
      "9\n",
      "10\n"
     ]
    }
   ],
   "source": [
    "for i in range(1,11):\n",
    "    if i==5:\n",
    "        continue\n",
    "    print(i)\n"
   ]
  },
  {
   "cell_type": "code",
   "execution_count": 26,
   "metadata": {},
   "outputs": [
    {
     "name": "stdout",
     "output_type": "stream",
     "text": [
      "1\n",
      "2\n",
      "3\n",
      "4\n",
      "5\n",
      "6\n",
      "7\n",
      "8\n",
      "9\n",
      "10\n"
     ]
    }
   ],
   "source": [
    "for i in range(1,11):\n",
    "    if i==5:\n",
    "        pass\n",
    "    print(i)\n"
   ]
  },
  {
   "cell_type": "code",
   "execution_count": 28,
   "metadata": {},
   "outputs": [
    {
     "name": "stdout",
     "output_type": "stream",
     "text": [
      "ello, welcome to Python:\n",
      "Hello, welcome to Python:\n",
      "Hello, welcome to Python:\n",
      "Hello, welcome to Python:\n",
      "Hello, welcome to Python:\n",
      "Hello, welcome to Python:\n",
      "Hello, welcome to Python:\n",
      "Hello, welcome to Python:\n",
      "Hello, welcome to Python:\n",
      "Hello, welcome to Python:\n",
      "\n",
      "Current File position:  270\n",
      "Is the file closed?  True\n",
      "File mode is: w+\n",
      "File name :  Edureka_Py.txt\n"
     ]
    }
   ],
   "source": [
    "# Open a file in write mode and add some text to it\n",
    "newfile = open(\"Edureka_Py.txt\", \"w+\")\n",
    "for i in range(0, 10):\n",
    "    newfile.write(\"Hello, welcome to Python:\\n\")\n",
    "# Changing the current file position and read the file\n",
    "newfile.seek(1, 0)\n",
    "# Reading the whole text of the file as a string\n",
    "print(newfile.read())\n",
    "print(\"Current File position: \", newfile.tell())\n",
    "    \n",
    "newfile.close()\n",
    "print(\"Is the file closed? \", newfile.closed)\n",
    "print(\"File mode is:\", newfile.mode)\n",
    "print(\"File name : \", newfile.name)\n"
   ]
  },
  {
   "cell_type": "code",
   "execution_count": 54,
   "metadata": {},
   "outputs": [
    {
     "name": "stdout",
     "output_type": "stream",
     "text": [
      "Enter file name: Edureka_Py.txt\n",
      "Enter keyword to be searched:Hello\n",
      "Enter destination file name: Searched\n",
      "After the keyword search: \n",
      "\n"
     ]
    }
   ],
   "source": [
    "fname = input(\"Enter file name: \")\n",
    "word = input(\"Enter keyword to be searched:\")\n",
    "fname2 = input(\"Enter destination file name: \")\n",
    "fout = open(fname2, \"w\") \n",
    "with open(fname, 'r') as f:  #You can also open files using with keyword  \n",
    "    for line in f:\n",
    "        words = line.split()\n",
    "        for i in words:\n",
    "            if(i == word):\n",
    "                fout.write(line)\n",
    "fout.close()\n",
    "print(\"After the keyword search: \")\n",
    "txt = open(fname2)\n",
    "print(txt.read())\n"
   ]
  },
  {
   "cell_type": "code",
   "execution_count": 32,
   "metadata": {},
   "outputs": [
    {
     "name": "stdout",
     "output_type": "stream",
     "text": [
      "Concatenated string is ->  Python is Fun\n"
     ]
    }
   ],
   "source": [
    "str1 = 'Python'+' '+'is'+' '+'Fun'\n",
    "print('Concatenated string is -> ',str1)"
   ]
  },
  {
   "cell_type": "code",
   "execution_count": 33,
   "metadata": {},
   "outputs": [
    {
     "name": "stdout",
     "output_type": "stream",
     "text": [
      "Repeated string is ->  Python Python Python \n"
     ]
    }
   ],
   "source": [
    "str2 = 'Python ' *3\n",
    "print('Repeated string is -> ',str2)"
   ]
  },
  {
   "cell_type": "code",
   "execution_count": 34,
   "metadata": {},
   "outputs": [
    {
     "data": {
      "text/plain": [
       "True"
      ]
     },
     "execution_count": 34,
     "metadata": {},
     "output_type": "execute_result"
    }
   ],
   "source": [
    "str3 = 'python is easy'\n",
    "str3.islower()"
   ]
  },
  {
   "cell_type": "code",
   "execution_count": 35,
   "metadata": {},
   "outputs": [
    {
     "data": {
      "text/plain": [
       "['Apples', 'Mangoes']"
      ]
     },
     "execution_count": 35,
     "metadata": {},
     "output_type": "execute_result"
    }
   ],
   "source": [
    "lst = ['Apples','Mangoes','Bananas','Oranges']\n",
    "lst[:2]"
   ]
  },
  {
   "cell_type": "code",
   "execution_count": 36,
   "metadata": {},
   "outputs": [
    {
     "name": "stdout",
     "output_type": "stream",
     "text": [
      "The index of Apples is 0\n"
     ]
    }
   ],
   "source": [
    "print('The index of Apples is {}'.format(lst.index('Apples')))\n",
    "# print(lst.index('Mangoes'))\n",
    "# print(lst.index('Bananas'))\n",
    "# print(lst.index('Oranges'))"
   ]
  },
  {
   "cell_type": "code",
   "execution_count": 37,
   "metadata": {},
   "outputs": [],
   "source": [
    "def print_name(str):\n",
    "    wel=(\"Welcome to Python, \",str)\n",
    "    return(wel)"
   ]
  },
  {
   "cell_type": "code",
   "execution_count": 38,
   "metadata": {},
   "outputs": [
    {
     "name": "stdout",
     "output_type": "stream",
     "text": [
      "Enter your name :Jack\n",
      "('Welcome to Python, ', 'Jack')\n"
     ]
    }
   ],
   "source": [
    "str=input(\"Enter your name :\")\n",
    "Out=print_name(str)\n",
    "print(Out)"
   ]
  },
  {
   "cell_type": "code",
   "execution_count": 39,
   "metadata": {},
   "outputs": [
    {
     "name": "stdout",
     "output_type": "stream",
     "text": [
      "We are passing RAW VALUE of X --> 15\n",
      "15\n",
      "The ORIGINAL value of X remains UNAFFECTED 5\n"
     ]
    }
   ],
   "source": [
    "X = 5\n",
    "def av(a):\n",
    "    a = a*3\n",
    "    print('We are passing RAW VALUE of X -->',a)\n",
    "    print(a)\n",
    "av(X)\n",
    "print('The ORIGINAL value of X remains UNAFFECTED',X)"
   ]
  },
  {
   "cell_type": "code",
   "execution_count": 40,
   "metadata": {},
   "outputs": [
    {
     "name": "stdout",
     "output_type": "stream",
     "text": [
      "NOTICE THE IDs of the VARIABLES, they are passed by REFERENCE\n",
      "Original ID--> 1583314902600\n",
      "ID after appending/Final ID --> 1583314902600\n",
      "The final output after passing into the function -->  ['WHATEVER', 'IT', 'TAKES !']\n"
     ]
    }
   ],
   "source": [
    "print('NOTICE THE IDs of the VARIABLES, they are passed by REFERENCE')\n",
    "def av2(y):\n",
    "    y.append('TAKES !')\n",
    "    print(\"ID after appending/Final ID -->\",id(y))\n",
    "\n",
    "quote = ['WHATEVER','IT']\n",
    "print('Original ID-->',id(quote))\n",
    "av2(quote)\n",
    "print('The final output after passing into the function --> ',quote)"
   ]
  },
  {
   "cell_type": "code",
   "execution_count": 41,
   "metadata": {},
   "outputs": [
    {
     "ename": "TypeError",
     "evalue": "print_name() missing 1 required positional argument: 'str'",
     "output_type": "error",
     "traceback": [
      "\u001b[1;31m---------------------------------------------------------------------------\u001b[0m",
      "\u001b[1;31mTypeError\u001b[0m                                 Traceback (most recent call last)",
      "\u001b[1;32m<ipython-input-41-2d3662b5eb91>\u001b[0m in \u001b[0;36m<module>\u001b[1;34m\u001b[0m\n\u001b[0;32m      2\u001b[0m     \u001b[0mprint\u001b[0m\u001b[1;33m(\u001b[0m\u001b[1;34m\"Welcome to Python, \"\u001b[0m\u001b[1;33m,\u001b[0m\u001b[0mstr\u001b[0m\u001b[1;33m)\u001b[0m\u001b[1;33m\u001b[0m\u001b[1;33m\u001b[0m\u001b[0m\n\u001b[0;32m      3\u001b[0m     \u001b[1;32mreturn\u001b[0m\u001b[1;33m(\u001b[0m\u001b[1;33m)\u001b[0m\u001b[1;33m\u001b[0m\u001b[1;33m\u001b[0m\u001b[0m\n\u001b[1;32m----> 4\u001b[1;33m \u001b[0mprint_name\u001b[0m\u001b[1;33m(\u001b[0m\u001b[1;33m)\u001b[0m\u001b[1;33m\u001b[0m\u001b[1;33m\u001b[0m\u001b[0m\n\u001b[0m",
      "\u001b[1;31mTypeError\u001b[0m: print_name() missing 1 required positional argument: 'str'"
     ]
    }
   ],
   "source": [
    "def print_name(str):\n",
    "    print(\"Welcome to Python, \",str)\n",
    "    return()\n",
    "print_name()"
   ]
  },
  {
   "cell_type": "code",
   "execution_count": 43,
   "metadata": {},
   "outputs": [
    {
     "ename": "TypeError",
     "evalue": "'int' object is not subscriptable",
     "output_type": "error",
     "traceback": [
      "\u001b[1;31m---------------------------------------------------------------------------\u001b[0m",
      "\u001b[1;31mTypeError\u001b[0m                                 Traceback (most recent call last)",
      "\u001b[1;32m<ipython-input-43-271415b13785>\u001b[0m in \u001b[0;36m<module>\u001b[1;34m\u001b[0m\n\u001b[0;32m      2\u001b[0m     \u001b[0mprint\u001b[0m\u001b[1;33m(\u001b[0m\u001b[1;34m\"Substring is: \"\u001b[0m\u001b[1;33m,\u001b[0m \u001b[0mstr1\u001b[0m\u001b[1;33m[\u001b[0m\u001b[0mstart_index\u001b[0m\u001b[1;33m:\u001b[0m\u001b[0mstop_index\u001b[0m\u001b[1;33m]\u001b[0m\u001b[1;33m)\u001b[0m\u001b[1;33m\u001b[0m\u001b[1;33m\u001b[0m\u001b[0m\n\u001b[0;32m      3\u001b[0m \u001b[1;33m\u001b[0m\u001b[0m\n\u001b[1;32m----> 4\u001b[1;33m \u001b[0msubstring1\u001b[0m\u001b[1;33m(\u001b[0m\u001b[1;34m\"Example of Keyword Argument\"\u001b[0m\u001b[1;33m,\u001b[0m \u001b[1;36m10\u001b[0m\u001b[1;33m,\u001b[0m \u001b[1;36m30\u001b[0m\u001b[1;33m)\u001b[0m\u001b[1;33m\u001b[0m\u001b[1;33m\u001b[0m\u001b[0m\n\u001b[0m",
      "\u001b[1;32m<ipython-input-43-271415b13785>\u001b[0m in \u001b[0;36msubstring1\u001b[1;34m(start_index, stop_index, str1)\u001b[0m\n\u001b[0;32m      1\u001b[0m \u001b[1;32mdef\u001b[0m \u001b[0msubstring1\u001b[0m\u001b[1;33m(\u001b[0m\u001b[0mstart_index\u001b[0m\u001b[1;33m,\u001b[0m \u001b[0mstop_index\u001b[0m\u001b[1;33m,\u001b[0m \u001b[0mstr1\u001b[0m\u001b[1;33m)\u001b[0m\u001b[1;33m:\u001b[0m\u001b[1;33m\u001b[0m\u001b[1;33m\u001b[0m\u001b[0m\n\u001b[1;32m----> 2\u001b[1;33m     \u001b[0mprint\u001b[0m\u001b[1;33m(\u001b[0m\u001b[1;34m\"Substring is: \"\u001b[0m\u001b[1;33m,\u001b[0m \u001b[0mstr1\u001b[0m\u001b[1;33m[\u001b[0m\u001b[0mstart_index\u001b[0m\u001b[1;33m:\u001b[0m\u001b[0mstop_index\u001b[0m\u001b[1;33m]\u001b[0m\u001b[1;33m)\u001b[0m\u001b[1;33m\u001b[0m\u001b[1;33m\u001b[0m\u001b[0m\n\u001b[0m\u001b[0;32m      3\u001b[0m \u001b[1;33m\u001b[0m\u001b[0m\n\u001b[0;32m      4\u001b[0m \u001b[0msubstring1\u001b[0m\u001b[1;33m(\u001b[0m\u001b[1;34m\"Example of Keyword Argument\"\u001b[0m\u001b[1;33m,\u001b[0m \u001b[1;36m10\u001b[0m\u001b[1;33m,\u001b[0m \u001b[1;36m30\u001b[0m\u001b[1;33m)\u001b[0m\u001b[1;33m\u001b[0m\u001b[1;33m\u001b[0m\u001b[0m\n",
      "\u001b[1;31mTypeError\u001b[0m: 'int' object is not subscriptable"
     ]
    }
   ],
   "source": [
    "def substring1(start_index, stop_index, str1):\n",
    "    print(\"Substring is: \", str1[start_index:stop_index])\n",
    "    \n",
    "substring1(\"Example of Keyword Argument\", 10, 30)"
   ]
  },
  {
   "cell_type": "code",
   "execution_count": 44,
   "metadata": {},
   "outputs": [
    {
     "name": "stdout",
     "output_type": "stream",
     "text": [
      "Substring is:   Keyword Argument\n"
     ]
    }
   ],
   "source": [
    "def substring1(start_index, stop_index, str1):\n",
    "    print(\"Substring is: \", str1[start_index:stop_index])\n",
    "    \n",
    "substring1(str1=\"Example of Keyword Argument\", start_index=10,stop_index=30)"
   ]
  },
  {
   "cell_type": "code",
   "execution_count": 46,
   "metadata": {},
   "outputs": [
    {
     "name": "stdout",
     "output_type": "stream",
     "text": [
      "Name:  John\n",
      "Age : 25\n"
     ]
    },
    {
     "ename": "TypeError",
     "evalue": "info() missing 1 required positional argument: 'age'",
     "output_type": "error",
     "traceback": [
      "\u001b[1;31m---------------------------------------------------------------------------\u001b[0m",
      "\u001b[1;31mTypeError\u001b[0m                                 Traceback (most recent call last)",
      "\u001b[1;32m<ipython-input-46-1aca9d92aad2>\u001b[0m in \u001b[0;36m<module>\u001b[1;34m\u001b[0m\n\u001b[0;32m      4\u001b[0m     \u001b[1;32mreturn\u001b[0m\u001b[1;33m(\u001b[0m\u001b[1;33m)\u001b[0m\u001b[1;33m\u001b[0m\u001b[1;33m\u001b[0m\u001b[0m\n\u001b[0;32m      5\u001b[0m \u001b[0minfo\u001b[0m\u001b[1;33m(\u001b[0m\u001b[0mage\u001b[0m\u001b[1;33m=\u001b[0m\u001b[1;36m25\u001b[0m\u001b[1;33m,\u001b[0m\u001b[0mname\u001b[0m\u001b[1;33m=\u001b[0m\u001b[1;34m'John'\u001b[0m\u001b[1;33m)\u001b[0m\u001b[1;33m\u001b[0m\u001b[1;33m\u001b[0m\u001b[0m\n\u001b[1;32m----> 6\u001b[1;33m \u001b[0minfo\u001b[0m\u001b[1;33m(\u001b[0m\u001b[0mname\u001b[0m\u001b[1;33m=\u001b[0m\u001b[1;34m\"Michael\"\u001b[0m\u001b[1;33m)\u001b[0m\u001b[1;33m\u001b[0m\u001b[1;33m\u001b[0m\u001b[0m\n\u001b[0m",
      "\u001b[1;31mTypeError\u001b[0m: info() missing 1 required positional argument: 'age'"
     ]
    }
   ],
   "source": [
    "def info(name,age):\n",
    "    print(\"Name: \",name)\n",
    "    print(\"Age :\",age)\n",
    "    return()\n",
    "info(age=25,name='John')\n",
    "info(name=\"Michael\")"
   ]
  },
  {
   "cell_type": "code",
   "execution_count": 47,
   "metadata": {},
   "outputs": [
    {
     "name": "stdout",
     "output_type": "stream",
     "text": [
      "Name:  John\n",
      "Age : 25\n",
      "Name:  Michael\n",
      "Age : 50\n"
     ]
    },
    {
     "data": {
      "text/plain": [
       "()"
      ]
     },
     "execution_count": 47,
     "metadata": {},
     "output_type": "execute_result"
    }
   ],
   "source": [
    "def info(name,age=50):\n",
    "    print(\"Name: \",name)\n",
    "    print(\"Age :\",age)\n",
    "    return()\n",
    "info(age=25,name='John')\n",
    "info(name=\"Michael\")"
   ]
  },
  {
   "cell_type": "code",
   "execution_count": 48,
   "metadata": {},
   "outputs": [
    {
     "name": "stdout",
     "output_type": "stream",
     "text": [
      "Products purchased:\n",
      "Chocolates Milk\n"
     ]
    },
    {
     "ename": "TypeError",
     "evalue": "purchaseinfo() missing 1 required positional argument: 'product2'",
     "output_type": "error",
     "traceback": [
      "\u001b[1;31m---------------------------------------------------------------------------\u001b[0m",
      "\u001b[1;31mTypeError\u001b[0m                                 Traceback (most recent call last)",
      "\u001b[1;32m<ipython-input-48-dc524d07e803>\u001b[0m in \u001b[0;36m<module>\u001b[1;34m\u001b[0m\n\u001b[0;32m      4\u001b[0m     \u001b[1;32mreturn\u001b[0m\u001b[1;33m(\u001b[0m\u001b[1;33m)\u001b[0m\u001b[1;33m\u001b[0m\u001b[1;33m\u001b[0m\u001b[0m\n\u001b[0;32m      5\u001b[0m \u001b[0mpurchaseinfo\u001b[0m\u001b[1;33m(\u001b[0m\u001b[1;34m\"Chocolates\"\u001b[0m\u001b[1;33m,\u001b[0m\u001b[1;34m\"Milk\"\u001b[0m\u001b[1;33m)\u001b[0m\u001b[1;33m\u001b[0m\u001b[1;33m\u001b[0m\u001b[0m\n\u001b[1;32m----> 6\u001b[1;33m \u001b[0mpurchaseinfo\u001b[0m\u001b[1;33m(\u001b[0m\u001b[1;34m\"Cookies\"\u001b[0m\u001b[1;33m)\u001b[0m\u001b[1;33m\u001b[0m\u001b[1;33m\u001b[0m\u001b[0m\n\u001b[0m",
      "\u001b[1;31mTypeError\u001b[0m: purchaseinfo() missing 1 required positional argument: 'product2'"
     ]
    }
   ],
   "source": [
    "def purchaseinfo(product1, product2):\n",
    "    print(\"Products purchased:\")\n",
    "    print(product1, product2)\n",
    "    return()\n",
    "purchaseinfo(\"Chocolates\",\"Milk\")\n",
    "purchaseinfo(\"Cookies\")\n"
   ]
  },
  {
   "cell_type": "code",
   "execution_count": 49,
   "metadata": {},
   "outputs": [
    {
     "name": "stdout",
     "output_type": "stream",
     "text": [
      "Products purchased:\n",
      "Chocolates\n",
      "Milk\n",
      "Products purchased:\n",
      "Cookies\n"
     ]
    }
   ],
   "source": [
    "def purchaseinfo(product1, *products):\n",
    "    print(\"Products purchased:\")\n",
    "    print(product1)\n",
    "    for item in products:\n",
    "        print(item)\n",
    "        return()\n",
    "purchaseinfo(\"Chocolates\",\"Milk\")\n",
    "purchaseinfo(\"Cookies\")\n"
   ]
  },
  {
   "cell_type": "code",
   "execution_count": 50,
   "metadata": {},
   "outputs": [
    {
     "name": "stdout",
     "output_type": "stream",
     "text": [
      "50\n",
      "30\n"
     ]
    }
   ],
   "source": [
    "a = 50\n",
    "def number():\n",
    "    b = 30\n",
    "    print(b)\n",
    "print(a)\n",
    "number()\n"
   ]
  },
  {
   "cell_type": "code",
   "execution_count": 52,
   "metadata": {},
   "outputs": [
    {
     "name": "stdout",
     "output_type": "stream",
     "text": [
      "Value of a : 30\n",
      "c =  30\n",
      "Addition is:  60\n"
     ]
    },
    {
     "ename": "NameError",
     "evalue": "name 'c' is not defined",
     "output_type": "error",
     "traceback": [
      "\u001b[1;31m---------------------------------------------------------------------------\u001b[0m",
      "\u001b[1;31mNameError\u001b[0m                                 Traceback (most recent call last)",
      "\u001b[1;32m<ipython-input-52-4ca21b4cedde>\u001b[0m in \u001b[0;36m<module>\u001b[1;34m\u001b[0m\n\u001b[0;32m      8\u001b[0m \u001b[0mprint\u001b[0m\u001b[1;33m(\u001b[0m\u001b[1;34m'Value of a :'\u001b[0m\u001b[1;33m,\u001b[0m\u001b[0ma\u001b[0m\u001b[1;33m)\u001b[0m\u001b[1;33m\u001b[0m\u001b[1;33m\u001b[0m\u001b[0m\n\u001b[0;32m      9\u001b[0m \u001b[0madd\u001b[0m\u001b[1;33m(\u001b[0m\u001b[1;36m30\u001b[0m\u001b[1;33m)\u001b[0m\u001b[1;33m\u001b[0m\u001b[1;33m\u001b[0m\u001b[0m\n\u001b[1;32m---> 10\u001b[1;33m \u001b[0mprint\u001b[0m\u001b[1;33m(\u001b[0m\u001b[1;34m'Value of c :'\u001b[0m\u001b[1;33m,\u001b[0m\u001b[0mc\u001b[0m\u001b[1;33m)\u001b[0m\u001b[1;33m\u001b[0m\u001b[1;33m\u001b[0m\u001b[0m\n\u001b[0m\u001b[0;32m     11\u001b[0m \u001b[1;33m\u001b[0m\u001b[0m\n",
      "\u001b[1;31mNameError\u001b[0m: name 'c' is not defined"
     ]
    }
   ],
   "source": [
    "a =30\n",
    "def add(b):\n",
    "    c = 30\n",
    "    print('c = ',c)\n",
    "    sum = b+c\n",
    "    print('Addition is: ',sum)\n",
    "\n",
    "print('Value of a :',a)\n",
    "add(30)\n",
    "print('Value of c :',c)\n",
    "    "
   ]
  },
  {
   "cell_type": "code",
   "execution_count": 53,
   "metadata": {},
   "outputs": [
    {
     "name": "stdout",
     "output_type": "stream",
     "text": [
      "28\n"
     ]
    }
   ],
   "source": [
    "ans=(lambda z:z*4)\n",
    "print(ans(7))\n"
   ]
  },
  {
   "cell_type": "code",
   "execution_count": null,
   "metadata": {},
   "outputs": [],
   "source": []
  }
 ],
 "metadata": {
  "kernelspec": {
   "display_name": "Python 3",
   "language": "python",
   "name": "python3"
  },
  "language_info": {
   "codemirror_mode": {
    "name": "ipython",
    "version": 3
   },
   "file_extension": ".py",
   "mimetype": "text/x-python",
   "name": "python",
   "nbconvert_exporter": "python",
   "pygments_lexer": "ipython3",
   "version": "3.7.4"
  }
 },
 "nbformat": 4,
 "nbformat_minor": 2
}
