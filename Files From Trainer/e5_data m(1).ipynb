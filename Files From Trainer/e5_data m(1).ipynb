{
 "cells": [
  {
   "cell_type": "code",
   "execution_count": 1,
   "metadata": {},
   "outputs": [
    {
     "name": "stdout",
     "output_type": "stream",
     "text": [
      "1\n"
     ]
    }
   ],
   "source": [
    "import pandas as pd\n",
    "import numpy as np\n",
    "df=pd.Series(np.arange(1,51))\n",
    "print(df.ndim)"
   ]
  },
  {
   "cell_type": "code",
   "execution_count": 2,
   "metadata": {},
   "outputs": [
    {
     "name": "stdout",
     "output_type": "stream",
     "text": [
      "[RangeIndex(start=0, stop=50, step=1)]\n"
     ]
    }
   ],
   "source": [
    "import pandas as pd\n",
    "import numpy as np\n",
    "df=pd.Series(np.arange(1,51))\n",
    "print(df.axes)"
   ]
  },
  {
   "cell_type": "code",
   "execution_count": 3,
   "metadata": {},
   "outputs": [
    {
     "name": "stdout",
     "output_type": "stream",
     "text": [
      "[ 1  2  3  4  5  6  7  8  9 10 11 12 13 14 15 16 17 18 19 20 21 22 23 24\n",
      " 25 26 27 28 29 30 31 32 33 34 35 36 37 38 39 40 41 42 43 44 45 46 47 48\n",
      " 49 50]\n"
     ]
    }
   ],
   "source": [
    "import pandas as pd\n",
    "import numpy as np\n",
    "df=pd.Series(np.arange(1,51))\n",
    "print(df.values)"
   ]
  },
  {
   "cell_type": "code",
   "execution_count": 4,
   "metadata": {},
   "outputs": [
    {
     "name": "stdout",
     "output_type": "stream",
     "text": [
      "0    1\n",
      "1    2\n",
      "2    3\n",
      "3    4\n",
      "4    5\n",
      "dtype: int32\n"
     ]
    }
   ],
   "source": [
    "import pandas as pd\n",
    "import numpy as np\n",
    "df=pd.Series(np.arange(1,51))\n",
    "print(df.head())"
   ]
  },
  {
   "cell_type": "code",
   "execution_count": 5,
   "metadata": {},
   "outputs": [
    {
     "name": "stdout",
     "output_type": "stream",
     "text": [
      "44    45\n",
      "45    46\n",
      "46    47\n",
      "47    48\n",
      "48    49\n",
      "49    50\n",
      "dtype: int32\n",
      "count    50.00000\n",
      "mean     25.50000\n",
      "std      14.57738\n",
      "min       1.00000\n",
      "25%      13.25000\n",
      "50%      25.50000\n",
      "75%      37.75000\n",
      "max      50.00000\n",
      "dtype: float64\n"
     ]
    }
   ],
   "source": [
    "import pandas as pd\n",
    "import numpy as np\n",
    "df=pd.Series(np.arange(1,51))\n",
    "print(df.tail(6))\n",
    "print(df.describe())"
   ]
  },
  {
   "cell_type": "code",
   "execution_count": 6,
   "metadata": {},
   "outputs": [
    {
     "name": "stdout",
     "output_type": "stream",
     "text": [
      "Odd:  [ 1  3  5  7  9 11 13 15 17 19]\n",
      "Even:  [ 0  2  4  6  8 10 12 14 16 18]\n",
      "Sum:  odd     100\n",
      "even     90\n",
      "dtype: int64\n"
     ]
    }
   ],
   "source": [
    "import pandas as pd\n",
    "import numpy as np\n",
    "d={'odd':np.arange(1, 20, 2),\n",
    "   'even':np.arange(0, 20, 2)}\n",
    "print(\"Odd: \", d['odd'])\n",
    "print(\"Even: \", d['even'])\n",
    "df=pd.DataFrame(d)\n",
    "print(\"Sum: \", df.sum())"
   ]
  },
  {
   "cell_type": "code",
   "execution_count": 7,
   "metadata": {},
   "outputs": [
    {
     "name": "stdout",
     "output_type": "stream",
     "text": [
      "2.0\n",
      "4.0\n"
     ]
    }
   ],
   "source": [
    "import numpy as np\n",
    "data = [2,4,4,4,5,5,7,9]\n",
    "std = np.std(data)\n",
    "print(std)\n",
    "variance = np.var(data)\n",
    "print(variance)\n"
   ]
  },
  {
   "cell_type": "code",
   "execution_count": 8,
   "metadata": {},
   "outputs": [
    {
     "name": "stdout",
     "output_type": "stream",
     "text": [
      "Odd:  [ 1  3  5  7  9 11 13 15 17 19 21 23 25 27 29 31 33 35 37 39 41 43 45 47\n",
      " 49 51 53 55 57 59 61 63 65 67 69 71 73 75 77 79 81 83 85 87 89 91 93 95\n",
      " 97 99]\n",
      "Even:  [ 0  2  4  6  8 10 12 14 16 18 20 22 24 26 28 30 32 34 36 38 40 42 44 46\n",
      " 48 50 52 54 56 58 60 62 64 66 68 70 72 74 76 78 80 82 84 86 88 90 92 94\n",
      " 96 98]\n",
      "Mean:  odd     50.0\n",
      "even    49.0\n",
      "dtype: float64\n",
      "Standard Deviation:  odd     29.154759\n",
      "even    29.154759\n",
      "dtype: float64\n",
      "Variance:  odd     850.0\n",
      "even    850.0\n",
      "dtype: float64\n"
     ]
    }
   ],
   "source": [
    "import pandas as pd\n",
    "import numpy as np\n",
    "d={'odd':np.arange(1, 100, 2),\n",
    "   'even':np.arange(0, 100, 2)}\n",
    "print(\"Odd: \", d['odd'])\n",
    "print(\"Even: \", d['even'])\n",
    "df=pd.DataFrame(d)\n",
    "print(\"Mean: \", df.mean())\n",
    "print(\"Standard Deviation: \", df.std())\n",
    "print(\"Variance: \", df.var())"
   ]
  },
  {
   "cell_type": "code",
   "execution_count": 9,
   "metadata": {},
   "outputs": [
    {
     "name": "stdout",
     "output_type": "stream",
     "text": [
      "col1\n",
      "0    0.143420\n",
      "1    0.278133\n",
      "2    0.066137\n",
      "3    0.027242\n",
      "4    0.275623\n",
      "Name: col1, dtype: float64\n",
      "------\n",
      "col2\n",
      "0    0.293028\n",
      "1    0.678744\n",
      "2    0.984081\n",
      "3    0.624390\n",
      "4    0.725039\n",
      "Name: col2, dtype: float64\n",
      "------\n",
      "col3\n",
      "0    0.631423\n",
      "1    0.528845\n",
      "2    0.249428\n",
      "3    0.969655\n",
      "4    0.450196\n",
      "Name: col3, dtype: float64\n",
      "------\n",
      "col4\n",
      "0    0.863439\n",
      "1    0.595405\n",
      "2    0.564107\n",
      "3    0.374900\n",
      "4    0.441093\n",
      "Name: col4, dtype: float64\n",
      "------\n"
     ]
    }
   ],
   "source": [
    "import pandas as pd\n",
    "import numpy as np\n",
    "# Create a random DataFrame\n",
    "df = pd.DataFrame(np.random.rand(5, 4), \n",
    "                  columns=['col1', 'col2', 'col3', 'col4'])\n",
    "# Iterate over columns\n",
    "for key, value in df.items():\n",
    "    print(key)\n",
    "    print(value)\n",
    "    print(\"------\")\n"
   ]
  },
  {
   "cell_type": "code",
   "execution_count": 10,
   "metadata": {},
   "outputs": [
    {
     "name": "stdout",
     "output_type": "stream",
     "text": [
      "0 col1    0.015969\n",
      "col2    0.007151\n",
      "col3    0.334405\n",
      "col4    0.558307\n",
      "Name: 0, dtype: float64\n",
      "1 col1    0.513371\n",
      "col2    0.520781\n",
      "col3    0.633199\n",
      "col4    0.802739\n",
      "Name: 1, dtype: float64\n",
      "2 col1    0.618125\n",
      "col2    0.916723\n",
      "col3    0.915067\n",
      "col4    0.322426\n",
      "Name: 2, dtype: float64\n",
      "3 col1    0.821852\n",
      "col2    0.502317\n",
      "col3    0.757204\n",
      "col4    0.152881\n",
      "Name: 3, dtype: float64\n",
      "4 col1    0.409539\n",
      "col2    0.745623\n",
      "col3    0.160199\n",
      "col4    0.038734\n",
      "Name: 4, dtype: float64\n"
     ]
    }
   ],
   "source": [
    "import pandas as pd\n",
    "import numpy as np\n",
    "df =pd.DataFrame(np.random.rand(5, 4),\n",
    "                 columns=['col1', 'col2', 'col3', 'col4'])\n",
    "for key, value in df.iterrows():\n",
    "    print(key, value)\n"
   ]
  },
  {
   "cell_type": "code",
   "execution_count": 11,
   "metadata": {},
   "outputs": [
    {
     "name": "stdout",
     "output_type": "stream",
     "text": [
      "Pandas(Index=0, col1=0.6897181003543428, col2=0.9305037098016391, col3=0.38083151934223325, col4=0.813469983692315)\n",
      "Pandas(Index=1, col1=0.15389934304348862, col2=0.8457648200224103, col3=0.7434092151962967, col4=0.8032601113047524)\n",
      "Pandas(Index=2, col1=0.9576631140769167, col2=0.6435716075173074, col3=0.35900456119100255, col4=0.5096195210120701)\n",
      "Pandas(Index=3, col1=0.4858527384290081, col2=0.45445574513588993, col3=0.6777108941806755, col4=0.7469026130323497)\n",
      "Pandas(Index=4, col1=0.4671006506370813, col2=0.46154169894982133, col3=0.6332841400008872, col4=0.9786770832991524)\n"
     ]
    }
   ],
   "source": [
    "import pandas as pd\n",
    "import numpy as np\n",
    "df =pd.DataFrame(np.random.rand(5, 4), \n",
    "                 columns=['col1', 'col2', 'col3', 'col4'])\n",
    "for row in df.itertuples():\n",
    "    print(row)"
   ]
  },
  {
   "cell_type": "code",
   "execution_count": 26,
   "metadata": {},
   "outputs": [
    {
     "name": "stdout",
     "output_type": "stream",
     "text": [
      "{'Australia': [3, 6, 7, 8, 10], 'India': [2, 9], 'Pakistan': [4], 'Sri Lanka': [5], 'West Indies': [0], 'West indies': [1]}\n"
     ]
    }
   ],
   "source": [
    "import pandas as pd\n",
    "world_cup={'Team':['West Indies','West indies','India',\n",
    "                   'Australia','Pakistan','Sri Lanka',\n",
    "                   'Australia','Australia','Australia',\n",
    "                   'India','Australia'],       \n",
    "           'Rank':[7,7,2,1,6,4,1,1,1,2,1],\n",
    "           'Year':[1975,1979,1983,1987,1992,1996,1999,\n",
    "                   2003,2007,2011,2015]\n",
    "          }\n",
    "df=pd.DataFrame(world_cup)\n",
    "print(df.groupby('Team').groups)"
   ]
  },
  {
   "cell_type": "code",
   "execution_count": 27,
   "metadata": {},
   "outputs": [
    {
     "name": "stdout",
     "output_type": "stream",
     "text": [
      "{('Australia', 1): [3, 6, 7, 8, 10], ('India', 2): [2, 9], ('Pakistan', 6): [4], ('Sri Lanka', 4): [5], ('West Indies', 7): [0], ('West indies', 7): [1]}\n"
     ]
    }
   ],
   "source": [
    "import pandas as pd\n",
    "world_cup={'Team':['West Indies','West indies','India',\n",
    "                   'Australia','Pakistan','Sri Lanka',\n",
    "                   'Australia','Australia','Australia',\n",
    "                   'India','Australia'],           \n",
    "           'Rank':[7,7,2,1,6,4,1,1,1,2,1],\n",
    "           'Year':[1975,1979,1983,1987,1992,1996,1999,\n",
    "                   2003,2007,2011,2015]\n",
    "          }\n",
    "df=pd.DataFrame(world_cup)\n",
    "print(df.groupby(['Team', 'Rank']).groups)"
   ]
  },
  {
   "cell_type": "code",
   "execution_count": 28,
   "metadata": {},
   "outputs": [
    {
     "name": "stdout",
     "output_type": "stream",
     "text": [
      "Australia\n",
      "India\n",
      "Pakistan\n",
      "Sri Lanka\n",
      "West Indies\n",
      "West indies\n"
     ]
    }
   ],
   "source": [
    "import pandas as pd\n",
    "world_cup={'Team':['West Indies','West indies','India',\n",
    "                   'Australia','Pakistan','Sri Lanka',\n",
    "                   'Australia','Australia','Australia',\n",
    "                   'India','Australia'],      \n",
    "           'Rank':[7,7,2,1,6,4,1,1,1,2,1],\n",
    "           'Year':[1975,1979,1983,1987,1992,1996,1999,\n",
    "                   2003,2007,2011,2015]\n",
    "          }\n",
    "df=pd.DataFrame(world_cup)\n",
    "grouped= df.groupby('Team')\n",
    "for name,group in grouped:\n",
    "    print(name)"
   ]
  },
  {
   "cell_type": "code",
   "execution_count": 29,
   "metadata": {},
   "outputs": [
    {
     "name": "stdout",
     "output_type": "stream",
     "text": [
      "    Team  Rank  Year\n",
      "2  India     2  1983\n",
      "9  India     2  2011\n"
     ]
    }
   ],
   "source": [
    "import pandas as pd\n",
    "world_cup={'Team':['West Indies','West indies','India',\n",
    "                   'Australia','Pakistan','Sri Lanka',\n",
    "                   'Australia','Australia','Australia',\n",
    "                   'India','Australia'],    \n",
    "           'Rank':[7,7,2,1,6,4,1,1,1,2,1],\n",
    "           'Year':[1975,1979,1983,1987,1992,1996,1999,\n",
    "                   2003,2007,2011,2015]\n",
    "          }\n",
    "df=pd.DataFrame(world_cup)\n",
    "grouped= df.groupby('Team')\n",
    "print(grouped.get_group('India'))"
   ]
  },
  {
   "cell_type": "code",
   "execution_count": 16,
   "metadata": {},
   "outputs": [
    {
     "name": "stdout",
     "output_type": "stream",
     "text": [
      "                  Year\n",
      "Team        Rank      \n",
      "Australia   1        5\n",
      "India       2        2\n",
      "Pakistan    6        1\n",
      "Sri Lanka   4        1\n",
      "West Indies 7        1\n",
      "West indies 7        1\n"
     ]
    }
   ],
   "source": [
    "import pandas as pd\n",
    "world_cup={'Team':['West Indies','West indies','India',\n",
    "                   'Australia','Pakistan','Sri Lanka',\n",
    "                   'Australia','Australia','Australia',\n",
    "                   'India','Australia'],           \n",
    "           'Rank':[7,7,2,1,6,4,1,1,1,2,1],\n",
    "           'Year':[1975,1979,1983,1987,1992,1996,1999,\n",
    "                   2003,2007,2011,2015]\n",
    "          }\n",
    "df=pd.DataFrame(world_cup)\n",
    "print(df.groupby(['Team','Rank']).count())"
   ]
  },
  {
   "cell_type": "code",
   "execution_count": 17,
   "metadata": {},
   "outputs": [
    {
     "name": "stdout",
     "output_type": "stream",
     "text": [
      "           Team  ICC_rank  World_champions_Year  Points\n",
      "0         India         2                2011.0     874\n",
      "1     Australia         3                2015.0     787\n",
      "2   West Indies         7                1979.0     753\n",
      "3      Pakistan         8                1992.0     673\n",
      "4     Sri Lanka         4                1996.0     855\n",
      "0  South Africa         1                   NaN     895\n",
      "1   New Zealand         5                   NaN     764\n",
      "2      Zimbabwe         9                   NaN     656\n"
     ]
    }
   ],
   "source": [
    "import pandas\n",
    "world_champions={'Team':['India','Australia','West Indies','Pakistan','Sri Lanka'],\n",
    "                 'ICC_rank':[2,3,7,8,4],\n",
    "                 'World_champions_Year':[2011,2015,1979,1992,1996],\n",
    "                 'Points':[874,787,753,673,855]}\n",
    "chokers={'Team':['South Africa','New Zealand','Zimbabwe'],\n",
    "         'ICC_rank':[1,5,9],\n",
    "         'Points':[895,764,656]}\n",
    "df1=pandas.DataFrame(world_champions)\n",
    "df2=pandas.DataFrame(chokers)\n",
    "print(pandas.concat([df1,df2]))#This code concatenates world_champions and chokers"
   ]
  },
  {
   "cell_type": "code",
   "execution_count": 18,
   "metadata": {},
   "outputs": [
    {
     "name": "stdout",
     "output_type": "stream",
     "text": [
      "          Team  ICC_rank  World_champions_Year  Points          Team  \\\n",
      "0        India         2                  2011     874  South Africa   \n",
      "1    Australia         3                  2015     787   New Zealand   \n",
      "2  West Indies         7                  1979     753      Zimbabwe   \n",
      "3     Pakistan         8                  1992     673           NaN   \n",
      "4    Sri Lanka         4                  1996     855           NaN   \n",
      "\n",
      "   ICC_rank  Points  \n",
      "0       1.0   895.0  \n",
      "1       5.0   764.0  \n",
      "2       9.0   656.0  \n",
      "3       NaN     NaN  \n",
      "4       NaN     NaN  \n"
     ]
    }
   ],
   "source": [
    "import pandas\n",
    "world_champions={'Team':['India','Australia','West Indies','Pakistan','Sri Lanka'],\n",
    "                 'ICC_rank':[2,3,7,8,4],\n",
    "                 'World_champions_Year':[2011,2015,1979,1992,1996],\n",
    "                 'Points':[874,787,753,673,855]}\n",
    "chokers={'Team':['South Africa','New Zealand','Zimbabwe'],\n",
    "         'ICC_rank':[1,5,9],\n",
    "         'Points':[895,764,656]}\n",
    "df1=pandas.DataFrame(world_champions)\n",
    "df2=pandas.DataFrame(chokers)\n",
    "print(pandas.concat([df1,df2], axis=1))"
   ]
  },
  {
   "cell_type": "code",
   "execution_count": 19,
   "metadata": {},
   "outputs": [
    {
     "name": "stdout",
     "output_type": "stream",
     "text": [
      "           Team  ICC_rank  World_champions_Year  Points\n",
      "0         India         2                2011.0     874\n",
      "1     Australia         3                2015.0     787\n",
      "2   West Indies         7                1979.0     753\n",
      "3      Pakistan         8                1992.0     673\n",
      "4     Sri Lanka         4                1996.0     855\n",
      "5  South Africa         1                   NaN     895\n",
      "6   New Zealand         5                   NaN     764\n",
      "7      Zimbabwe         9                   NaN     656\n"
     ]
    }
   ],
   "source": [
    "import pandas as pd\n",
    "\n",
    "# World champions dataset\n",
    "world_champions = {\n",
    "    'Team': ['India', 'Australia', 'West Indies', 'Pakistan', 'Sri Lanka'],\n",
    "    'ICC_rank': [2, 3, 7, 8, 4],\n",
    "    'World_champions_Year': [2011, 2015, 1979, 1992, 1996],\n",
    "    'Points': [874, 787, 753, 673, 855]\n",
    "}\n",
    "\n",
    "# Chokers dataset\n",
    "chokers = {\n",
    "    'Team': ['South Africa', 'New Zealand', 'Zimbabwe'],\n",
    "    'ICC_rank': [1, 5, 9],\n",
    "    'Points': [895, 764, 656]\n",
    "}\n",
    "\n",
    "# Create DataFrames\n",
    "df1 = pd.DataFrame(world_champions)\n",
    "df2 = pd.DataFrame(chokers)\n",
    "\n",
    "# Combine DataFrames\n",
    "df = pd.concat([df1, df2], ignore_index=True)\n",
    "\n",
    "print(df)\n"
   ]
  },
  {
   "cell_type": "code",
   "execution_count": 20,
   "metadata": {},
   "outputs": [
    {
     "name": "stdout",
     "output_type": "stream",
     "text": [
      "Empty DataFrame\n",
      "Columns: [Team, ICC_rank, World_champions_Year, Points]\n",
      "Index: []\n"
     ]
    }
   ],
   "source": [
    "import pandas\n",
    "world_champions={'Team':['India','Australia','West Indies','Pakistan','Sri Lanka'],\n",
    "                 'ICC_rank':[2,3,7,8,4],\n",
    "                 'World_champions_Year':[2011,2015,1979,1992,1996],\n",
    "                 'Points':[874,787,753,673,855]}\n",
    "chokers={'Team':['South Africa','New Zealand','Zimbabwe'],\n",
    "         'ICC_rank':[1,5,9],\n",
    "         'Points':[895,764,656]}\n",
    "df1=pandas.DataFrame(world_champions)\n",
    "df2=pandas.DataFrame(chokers)\n",
    "print(df1.merge(df2))"
   ]
  },
  {
   "cell_type": "code",
   "execution_count": 21,
   "metadata": {},
   "outputs": [
    {
     "name": "stdout",
     "output_type": "stream",
     "text": [
      "Empty DataFrame\n",
      "Columns: [Team, ICC_rank_x, World_champions_Year, Points_x, ICC_rank_y, Points_y]\n",
      "Index: []\n"
     ]
    }
   ],
   "source": [
    "import pandas\n",
    "world_champions={'Team':['India','Australia','West Indies','Pakistan','Sri Lanka'],\n",
    "                 'ICC_rank':[2,3,7,8,4],\n",
    "                 'World_champions_Year':[2011,2015,1979,1992,1996],\n",
    "                 'Points':[874,787,753,673,855]}\n",
    "chokers={'Team':['South Africa','New Zealand','Zimbabwe'],\n",
    "         'ICC_rank':[1,5,9],\n",
    "         'Points':[895,764,656]}\n",
    "df1=pandas.DataFrame(world_champions)\n",
    "df2=pandas.DataFrame(chokers)\n",
    "print(pandas.merge(df1,df2, on='Team'))"
   ]
  },
  {
   "cell_type": "code",
   "execution_count": 22,
   "metadata": {},
   "outputs": [
    {
     "name": "stdout",
     "output_type": "stream",
     "text": [
      "          Team  ICC_rank_x  World_champions_Year  Points_x  ICC_rank_y  \\\n",
      "0        India           2                  2011       874         NaN   \n",
      "1    Australia           3                  2015       787         NaN   \n",
      "2  West Indies           7                  1979       753         NaN   \n",
      "3     Pakistan           8                  1992       673         NaN   \n",
      "4    Sri Lanka           4                  1996       855         NaN   \n",
      "\n",
      "   Points_y  \n",
      "0       NaN  \n",
      "1       NaN  \n",
      "2       NaN  \n",
      "3       NaN  \n",
      "4       NaN  \n"
     ]
    }
   ],
   "source": [
    "import pandas\n",
    "#Creating the World Champions DataFrame\n",
    "world_champions={'Team':['India','Australia','West Indies','Pakistan','Sri Lanka'],\n",
    "                 'ICC_rank':[2,3,7,8,4],\n",
    "                 'World_champions_Year':[2011,2015,1979,1992,1996],\n",
    "                 'Points':[874,787,753,673,855]}\n",
    "#Creating the Chokers DataFrame\n",
    "chokers={'Team':['South Africa','New Zealand','Zimbabwe'],\n",
    "         'ICC_rank':[1,5,9],\n",
    "         'Points':[895,764,656]}\n",
    "df1=pandas.DataFrame(world_champions)\n",
    "df2=pandas.DataFrame(chokers)\n",
    "print(pandas.merge(df1,df2,on='Team',how='left' ))"
   ]
  },
  {
   "cell_type": "code",
   "execution_count": 23,
   "metadata": {},
   "outputs": [
    {
     "name": "stdout",
     "output_type": "stream",
     "text": [
      "           Team  ICC_rank_x  World_champions_Year  Points_x  ICC_rank_y  \\\n",
      "0  South Africa         NaN                   NaN       NaN           1   \n",
      "1   New Zealand         NaN                   NaN       NaN           5   \n",
      "2      Zimbabwe         NaN                   NaN       NaN           9   \n",
      "\n",
      "   Points_y  \n",
      "0       895  \n",
      "1       764  \n",
      "2       656  \n"
     ]
    }
   ],
   "source": [
    "import pandas\n",
    "#Creating the World Champions DataFrame\n",
    "world_champions={'Team':['India','Australia','West Indies','Pakistan','Sri Lanka'],\n",
    "                 'ICC_rank':[2,3,7,8,4],\n",
    "                 'World_champions_Year':[2011,2015,1979,1992,1996],\n",
    "                 'Points':[874,787,753,673,855]}\n",
    "#Creating the Chokers DataFrame\n",
    "chokers={'Team':['South Africa','New Zealand','Zimbabwe'],\n",
    "         'ICC_rank':[1,5,9],\n",
    "         'Points':[895,764,656]}\n",
    "df1=pandas.DataFrame(world_champions)\n",
    "df2=pandas.DataFrame(chokers)\n",
    "print(pandas.merge(df1,df2,on='Team',how='right' ))"
   ]
  },
  {
   "cell_type": "code",
   "execution_count": 24,
   "metadata": {},
   "outputs": [
    {
     "name": "stdout",
     "output_type": "stream",
     "text": [
      "Empty DataFrame\n",
      "Columns: [Team, ICC_rank_x, World_champions_Year, Points_x, ICC_rank_y, Points_y]\n",
      "Index: []\n"
     ]
    }
   ],
   "source": [
    "import pandas\n",
    "#Creating the World Champions DataFrame\n",
    "world_champions={'Team':['India','Australia','West Indies','Pakistan','Sri Lanka'],\n",
    "                 'ICC_rank':[2,3,7,8,4],\n",
    "                 'World_champions_Year':[2011,2015,1979,1992,1996],\n",
    "                 'Points':[874,787,753,673,855]}\n",
    "#Creating the Chokers DataFrame\n",
    "chokers={'Team':['South Africa','New Zealand','Zimbabwe'],\n",
    "         'ICC_rank':[1,5,9],\n",
    "         'Points':[895,764,656]}\n",
    "df1=pandas.DataFrame(world_champions)\n",
    "df2=pandas.DataFrame(chokers)\n",
    "print(pandas.merge(df1,df2,on='Team',how='inner' ))"
   ]
  },
  {
   "cell_type": "code",
   "execution_count": 25,
   "metadata": {},
   "outputs": [
    {
     "name": "stdout",
     "output_type": "stream",
     "text": [
      "           Team  ICC_rank_x  World_champions_Year  Points_x  ICC_rank_y  \\\n",
      "0     Australia         3.0                2015.0     787.0         NaN   \n",
      "1         India         2.0                2011.0     874.0         NaN   \n",
      "2   New Zealand         NaN                   NaN       NaN         5.0   \n",
      "3      Pakistan         8.0                1992.0     673.0         NaN   \n",
      "4  South Africa         NaN                   NaN       NaN         1.0   \n",
      "5     Sri Lanka         4.0                1996.0     855.0         NaN   \n",
      "6   West Indies         7.0                1979.0     753.0         NaN   \n",
      "7      Zimbabwe         NaN                   NaN       NaN         9.0   \n",
      "\n",
      "   Points_y  \n",
      "0       NaN  \n",
      "1       NaN  \n",
      "2     764.0  \n",
      "3       NaN  \n",
      "4     895.0  \n",
      "5       NaN  \n",
      "6       NaN  \n",
      "7     656.0  \n"
     ]
    }
   ],
   "source": [
    "import pandas\n",
    "#Creating the World Champions DataFrame\n",
    "world_champions={'Team':['India','Australia','West Indies','Pakistan','Sri Lanka'],\n",
    "                 'ICC_rank':[2,3,7,8,4],\n",
    "                 'World_champions_Year':[2011,2015,1979,1992,1996],\n",
    "                 'Points':[874,787,753,673,855]}\n",
    "#Creating the Chokers DataFrame\n",
    "chokers={'Team':['South Africa','New Zealand','Zimbabwe'],\n",
    "         'ICC_rank':[1,5,9],\n",
    "         'Points':[895,764,656]}\n",
    "df1=pandas.DataFrame(world_champions)\n",
    "df2=pandas.DataFrame(chokers)\n",
    "print(pandas.merge(df1,df2,on='Team',how='outer' ))"
   ]
  },
  {
   "cell_type": "code",
   "execution_count": null,
   "metadata": {},
   "outputs": [],
   "source": []
  },
  {
   "cell_type": "code",
   "execution_count": null,
   "metadata": {},
   "outputs": [],
   "source": []
  }
 ],
 "metadata": {
  "kernelspec": {
   "display_name": "Python [conda env:base] *",
   "language": "python",
   "name": "conda-base-py"
  },
  "language_info": {
   "codemirror_mode": {
    "name": "ipython",
    "version": 3
   },
   "file_extension": ".py",
   "mimetype": "text/x-python",
   "name": "python",
   "nbconvert_exporter": "python",
   "pygments_lexer": "ipython3",
   "version": "3.12.7"
  }
 },
 "nbformat": 4,
 "nbformat_minor": 4
}
