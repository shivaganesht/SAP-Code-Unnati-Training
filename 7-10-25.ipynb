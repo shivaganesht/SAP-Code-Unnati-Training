{
 "cells": [
  {
   "cell_type": "markdown",
   "id": "b10f80be",
   "metadata": {},
   "source": [
    "1st question\n",
    "Positional Arguments"
   ]
  },
  {
   "cell_type": "code",
   "execution_count": 38,
   "id": "1594ab7e",
   "metadata": {},
   "outputs": [],
   "source": [
    "def print_name(str):\n",
    "    wel=(\"Welcome to Python\",str)\n",
    "    return wel"
   ]
  },
  {
   "cell_type": "code",
   "execution_count": 39,
   "id": "82bfb1cc",
   "metadata": {},
   "outputs": [],
   "source": [
    "def name():\n",
    "    name_str=input(\"Enter your name: \")\n",
    "    Out=print_name(name_str)\n",
    "    print(Out)"
   ]
  },
  {
   "cell_type": "code",
   "execution_count": 40,
   "id": "166ef653",
   "metadata": {},
   "outputs": [],
   "source": [
    "def hello(n1,n2):\n",
    "    roll_str=input(\"Enter your Roll Number: \")\n",
    "    Roll=n1, n2(roll_str)\n",
    "    print(Roll)"
   ]
  },
  {
   "cell_type": "code",
   "execution_count": 41,
   "id": "7d339af0",
   "metadata": {},
   "outputs": [
    {
     "name": "stdout",
     "output_type": "stream",
     "text": [
      "('Welcome to Python', 'shiva ganesh')\n"
     ]
    },
    {
     "ename": "TypeError",
     "evalue": "name() takes 0 positional arguments but 1 was given",
     "output_type": "error",
     "traceback": [
      "\u001b[1;31m---------------------------------------------------------------------------\u001b[0m",
      "\u001b[1;31mTypeError\u001b[0m                                 Traceback (most recent call last)",
      "\u001b[1;32m~\\AppData\\Local\\Temp\\ipykernel_17684\\1290228322.py\u001b[0m in \u001b[0;36m<module>\u001b[1;34m\u001b[0m\n\u001b[0;32m      1\u001b[0m \u001b[0mname\u001b[0m\u001b[1;33m(\u001b[0m\u001b[1;33m)\u001b[0m\u001b[1;33m\u001b[0m\u001b[1;33m\u001b[0m\u001b[0m\n\u001b[1;32m----> 2\u001b[1;33m \u001b[0mhello\u001b[0m\u001b[1;33m(\u001b[0m\u001b[0mprint_name\u001b[0m\u001b[1;33m,\u001b[0m\u001b[0mname\u001b[0m\u001b[1;33m)\u001b[0m\u001b[1;33m\u001b[0m\u001b[1;33m\u001b[0m\u001b[0m\n\u001b[0m",
      "\u001b[1;32m~\\AppData\\Local\\Temp\\ipykernel_17684\\168098943.py\u001b[0m in \u001b[0;36mhello\u001b[1;34m(n1, n2)\u001b[0m\n\u001b[0;32m      1\u001b[0m \u001b[1;32mdef\u001b[0m \u001b[0mhello\u001b[0m\u001b[1;33m(\u001b[0m\u001b[0mn1\u001b[0m\u001b[1;33m,\u001b[0m\u001b[0mn2\u001b[0m\u001b[1;33m)\u001b[0m\u001b[1;33m:\u001b[0m\u001b[1;33m\u001b[0m\u001b[1;33m\u001b[0m\u001b[0m\n\u001b[0;32m      2\u001b[0m     \u001b[0mroll_str\u001b[0m\u001b[1;33m=\u001b[0m\u001b[0minput\u001b[0m\u001b[1;33m(\u001b[0m\u001b[1;34m\"Enter your Roll Number: \"\u001b[0m\u001b[1;33m)\u001b[0m\u001b[1;33m\u001b[0m\u001b[1;33m\u001b[0m\u001b[0m\n\u001b[1;32m----> 3\u001b[1;33m     \u001b[0mRoll\u001b[0m\u001b[1;33m=\u001b[0m\u001b[0mn1\u001b[0m\u001b[1;33m,\u001b[0m \u001b[0mn2\u001b[0m\u001b[1;33m(\u001b[0m\u001b[0mroll_str\u001b[0m\u001b[1;33m)\u001b[0m\u001b[1;33m\u001b[0m\u001b[1;33m\u001b[0m\u001b[0m\n\u001b[0m\u001b[0;32m      4\u001b[0m     \u001b[0mprint\u001b[0m\u001b[1;33m(\u001b[0m\u001b[0mRoll\u001b[0m\u001b[1;33m)\u001b[0m\u001b[1;33m\u001b[0m\u001b[1;33m\u001b[0m\u001b[0m\n",
      "\u001b[1;31mTypeError\u001b[0m: name() takes 0 positional arguments but 1 was given"
     ]
    }
   ],
   "source": [
    "name()\n",
    "hello(print_name,name)"
   ]
  },
  {
   "cell_type": "code",
   "execution_count": null,
   "id": "eb7a9662",
   "metadata": {},
   "outputs": [],
   "source": [
    "def find_square(num):\n",
    "    result = num*num\n",
    "    return result"
   ]
  },
  {
   "cell_type": "code",
   "execution_count": null,
   "id": "cfd99ad1",
   "metadata": {},
   "outputs": [
    {
     "data": {
      "text/plain": [
       "4"
      ]
     },
     "execution_count": 37,
     "metadata": {},
     "output_type": "execute_result"
    }
   ],
   "source": [
    "find_square(2)"
   ]
  },
  {
   "cell_type": "markdown",
   "id": "5025fae2",
   "metadata": {},
   "source": [
    "2nd question - Keyword Arguments"
   ]
  },
  {
   "cell_type": "code",
   "execution_count": 20,
   "id": "1f8f8ee4",
   "metadata": {},
   "outputs": [
    {
     "data": {
      "text/plain": [
       "'Hello, Alice!'"
      ]
     },
     "execution_count": 20,
     "metadata": {},
     "output_type": "execute_result"
    }
   ],
   "source": [
    "def greet(name, message):\n",
    "    return f\"{message}, {name}!\"\n",
    "greet(message=\"Hello\", name='Alice')"
   ]
  },
  {
   "cell_type": "code",
   "execution_count": 6,
   "id": "9fd72410",
   "metadata": {},
   "outputs": [],
   "source": [
    "def archana(gotram, name1, name2, name3, name4):\n",
    "    return f\"Gotram: {gotram}, Names: {name1}, {name2}, {name3}, {name4}\"\n",
    "\n"
   ]
  },
  {
   "cell_type": "code",
   "execution_count": 7,
   "id": "c4c0fb27",
   "metadata": {},
   "outputs": [
    {
     "data": {
      "text/plain": [
       "'Gotram: Shiva, Names: Hari Krishna, ASha Bindu, Shiva Ganesh, Leekshana'"
      ]
     },
     "execution_count": 7,
     "metadata": {},
     "output_type": "execute_result"
    }
   ],
   "source": [
    "gotram=input(\"Enter your Gotram: \")\n",
    "name1=input(\"Enter Name: \")\n",
    "name2=input(\"Enter Name: \")\n",
    "name3=input(\"Enter Name: \")\n",
    "name4=input(\"Enter Name: \")\n",
    "\n",
    "archana(gotram, name1, name2, name3, name4)"
   ]
  },
  {
   "cell_type": "markdown",
   "id": "5f12b2ed",
   "metadata": {},
   "source": [
    "3rd question - default parameters (Arguments)"
   ]
  },
  {
   "cell_type": "code",
   "execution_count": 21,
   "id": "b75c27c5",
   "metadata": {},
   "outputs": [
    {
     "name": "stdout",
     "output_type": "stream",
     "text": [
      "Hello, John Doe!\n",
      "None\n",
      "Hello, Jane Smith!\n",
      "None\n"
     ]
    }
   ],
   "source": [
    "def greet(first_name, last_name='Doe'):\n",
    "    print(f\"Hello, {first_name} {last_name}!\")\n",
    "result=greet('John')\n",
    "print(result)\n",
    "\n",
    "\n",
    "result=greet('Jane', 'Smith')\n",
    "print(result)"
   ]
  },
  {
   "cell_type": "markdown",
   "id": "2449ba49",
   "metadata": {},
   "source": [
    "Exercise 1 - dream company default parameters"
   ]
  },
  {
   "cell_type": "code",
   "execution_count": 4,
   "id": "52a368b9",
   "metadata": {},
   "outputs": [
    {
     "name": "stdout",
     "output_type": "stream",
     "text": [
      "Package: 10 LPA, Company: Microsoft\n",
      "Package: 15 LPA, Company: Google\n"
     ]
    }
   ],
   "source": [
    "def dream_company(Package, Company='Microsoft'):\n",
    "    return f\"Package: {Package}, Company: {Company}\"\n",
    "result=dream_company('10 LPA')\n",
    "print(result)\n",
    "\n",
    "result=dream_company('15 LPA', 'Google')\n",
    "print(result)"
   ]
  },
  {
   "cell_type": "markdown",
   "id": "3db3807d",
   "metadata": {},
   "source": [
    "Variable Length Arguments"
   ]
  },
  {
   "cell_type": "code",
   "execution_count": 22,
   "id": "00345c23",
   "metadata": {},
   "outputs": [
    {
     "name": "stdout",
     "output_type": "stream",
     "text": [
      "Product Purchased: Laptop Mouse\n",
      "Product Purchased: Smartphone Charger\n"
     ]
    },
    {
     "data": {
      "text/plain": [
       "()"
      ]
     },
     "execution_count": 22,
     "metadata": {},
     "output_type": "execute_result"
    }
   ],
   "source": [
    "def purchaseinfo(product1, product2):\n",
    "    print(\"Product Purchased:\", product1, product2)\n",
    "    return()\n",
    "\n",
    "purchaseinfo('Laptop', 'Mouse')\n",
    "purchaseinfo('Smartphone', 'Charger')"
   ]
  },
  {
   "cell_type": "code",
   "execution_count": 8,
   "id": "05f8e293",
   "metadata": {},
   "outputs": [
    {
     "name": "stdout",
     "output_type": "stream",
     "text": [
      "Product Purchased: Laptop\n",
      "Mouse\n",
      "Keyboard\n",
      "Monitor\n",
      "USB Drive\n",
      "Headphones\n",
      "Webcam\n",
      "TV\n",
      "Smartwatch\n",
      "Tablet\n",
      "Smart Speaker\n",
      "Router\n",
      "Printer\n",
      "Scanner\n",
      "External Hard Drive\n",
      "Microphone\n",
      "Projector\n",
      "Graphics Tablet\n",
      "E-reader\n",
      "Fitness Tracker\n",
      "Drone\n",
      "VR Headset\n",
      "Smart Home Hub\n",
      "Action Camera\n",
      "Gaming Console\n",
      "Streaming Device\n",
      "Smart Light Bulb\n",
      "Smart Thermostat\n",
      "Smart Lock\n",
      "Smart Doorbell\n",
      "Product Purchased: Smartphone\n"
     ]
    },
    {
     "data": {
      "text/plain": [
       "()"
      ]
     },
     "execution_count": 8,
     "metadata": {},
     "output_type": "execute_result"
    }
   ],
   "source": [
    "def purchaseinfo(product1, *products):\n",
    "    print(\"Product Purchased:\", product1)\n",
    "    for item in products:\n",
    "        print(item)\n",
    "    return()\n",
    "\n",
    "purchaseinfo('Laptop', 'Mouse', 'Keyboard', 'Monitor', 'USB Drive', 'Headphones', 'Webcam', 'TV', 'Smartwatch', 'Tablet', 'Smart Speaker', 'Router', 'Printer', 'Scanner', 'External Hard Drive', 'Microphone', 'Projector', 'Graphics Tablet', 'E-reader', 'Fitness Tracker', 'Drone', 'VR Headset', 'Smart Home Hub', 'Action Camera', 'Gaming Console', 'Streaming Device', 'Smart Light Bulb', 'Smart Thermostat', 'Smart Lock', 'Smart Doorbell')\n",
    "purchaseinfo('Smartphone')"
   ]
  },
  {
   "cell_type": "code",
   "execution_count": 23,
   "id": "7c058b33",
   "metadata": {},
   "outputs": [],
   "source": [
    "#sample function with no return statement\n",
    "def add(a, b):\n",
    "    sum=a + b\n",
    "    return\n",
    "add(5, 10)"
   ]
  },
  {
   "cell_type": "markdown",
   "id": "2e307c78",
   "metadata": {},
   "source": [
    "Keyword Varable-Length Arguments (**kwargs)"
   ]
  },
  {
   "cell_type": "code",
   "execution_count": 26,
   "id": "25b06af0",
   "metadata": {},
   "outputs": [
    {
     "name": "stdout",
     "output_type": "stream",
     "text": [
      "name: Samsung Watch 8 Classic\n",
      "color: black\n",
      "dialsize: 45mm\n",
      "price: 45000\n",
      "warranty: 2 years\n",
      "waterresistant: 50m\n",
      "battery: long-lasting\n",
      "connectivity: Bluetooth, Wi-Fi\n",
      "compatibility: Android, iOS\n",
      "features: Heart Rate Monitor, GPS, Sleep Tracking, Notifications, Fitness Tracking\n",
      "name: Shiva Ganesh Talikota\n",
      "age: 21\n",
      "location: KPRIT College, Near NTPC Power Grid, Ghanpur, Ghatkesar,Hyderabad\n",
      "state: Telangana\n",
      "country: India\n",
      "pincode: 500088\n",
      "phone: 1234567890\n",
      "email: shivaganesht@icloud.com\n",
      "Landmark: Near NTPC Power Grid\n",
      "Payment: Cash\n",
      "OrderID: 12345\n",
      "DeliveryStatus: Pending\n",
      "DeliveryDate: 2023-10-30\n",
      "TimeSlot: 10:00 AM - 12:00 PM\n",
      "SpecialInstructions: Leave at the front door if not home\n",
      "trackingid: 29885929\n",
      "GiftWrap: No\n",
      "CouponCode: FESTIVE10\n",
      "Discount: 10%\n",
      "TotalAmount: 500\n",
      "Tax: 5%\n",
      "ShippingFee: Free\n",
      "FinalAmount: 525\n"
     ]
    }
   ],
   "source": [
    "def print_info( **kwargs):\n",
    "    for key, value in kwargs.items():\n",
    "        print(f\"{key}: {value}\")\n",
    "\n",
    "print_info(name=\"Samsung Watch 8 Classic\", color=\"black\", dialsize=\"45mm\", price=\"45000\", warranty=\"2 years\", waterresistant=\"50m\", battery=\"long-lasting\", connectivity=\"Bluetooth, Wi-Fi\", compatibility=\"Android, iOS\", features=\"Heart Rate Monitor, GPS, Sleep Tracking, Notifications, Fitness Tracking\")\n",
    "print_info(name=\"Shiva Ganesh Talikota\", age=21, location=\"KPRIT College, Near NTPC Power Grid, Ghanpur, Ghatkesar,Hyderabad\", state='Telangana', country='India', pincode=500088, phone=1234567890, email=\"shivaganesht@icloud.com\", Landmark=\"Near NTPC Power Grid\", Payment=\"Cash\", OrderID=12345, DeliveryStatus=\"Pending\", DeliveryDate=\"2023-10-30\", TimeSlot=\"10:00 AM - 12:00 PM\", SpecialInstructions=\"Leave at the front door if not home\", trackingid=29885929, GiftWrap=\"No\", CouponCode=\"FESTIVE10\", Discount=\"10%\", TotalAmount=500, Tax=\"5%\", ShippingFee=\"Free\", FinalAmount=525)"
   ]
  },
  {
   "cell_type": "markdown",
   "id": "a635fbb4",
   "metadata": {},
   "source": [
    "Mixing Different Argument Types"
   ]
  },
  {
   "cell_type": "code",
   "execution_count": 27,
   "id": "80b365d2",
   "metadata": {},
   "outputs": [
    {
     "name": "stdout",
     "output_type": "stream",
     "text": [
      "a: 1\n",
      "b: 3\n",
      "Additional positional arguments: (4, 5)\n",
      "Keyword arguments: {'x': 10, 'y': 20}\n"
     ]
    }
   ],
   "source": [
    "def mixed_arguments(a, b=2, *args, **kwargs):\n",
    "    print(f\"a: {a}\")\n",
    "    print(f\"b: {b}\")\n",
    "    print(\"Additional positional arguments:\", args)\n",
    "    print(\"Keyword arguments:\", kwargs)\n",
    "\n",
    "mixed_arguments(1,3,4,5,x=10,y=20)"
   ]
  },
  {
   "cell_type": "markdown",
   "id": "cbded09b",
   "metadata": {},
   "source": [
    "Cards Randomization for Distribution of the Cards to the player"
   ]
  },
  {
   "cell_type": "code",
   "execution_count": 32,
   "id": "63bb65af",
   "metadata": {},
   "outputs": [
    {
     "name": "stdout",
     "output_type": "stream",
     "text": [
      "New deck= 52 cards\n",
      "----------------------------------------\n",
      "Hand1= ['7H', 'QS', '9H', '3C', '6S']\n",
      "Hand2= ['8D', 'AD', 'JC', 'AH', '9S']\n"
     ]
    }
   ],
   "source": [
    "import random\n",
    "def new_deck():\n",
    "    rs=[rank+suit for rank in 'A23456789TJQK' for suit in 'CDHS']\n",
    "    return rs\n",
    "\n",
    "def draw_card(n, cards_list):\n",
    "    random.shuffle(cards_list)\n",
    "    return [cards_list.pop() for k in range(n)]\n",
    "#new deck of cards\n",
    "cards_list=new_deck()\n",
    "print(\"New deck= %s cards\" % len(cards_list))\n",
    "#draw n cards per player\n",
    "n=5\n",
    "hand1=draw_card(n, cards_list)\n",
    "hand2=draw_card(n, cards_list)\n",
    "print('-'*40)\n",
    "#show 2 hands\n",
    "print(\"Hand1= %s\" % hand1)\n",
    "print(\"Hand2= %s\" % hand2)"
   ]
  }
 ],
 "metadata": {
  "kernelspec": {
   "display_name": "Python 3",
   "language": "python",
   "name": "python3"
  },
  "language_info": {
   "codemirror_mode": {
    "name": "ipython",
    "version": 3
   },
   "file_extension": ".py",
   "mimetype": "text/x-python",
   "name": "python",
   "nbconvert_exporter": "python",
   "pygments_lexer": "ipython3",
   "version": "3.7.6"
  }
 },
 "nbformat": 4,
 "nbformat_minor": 5
}
