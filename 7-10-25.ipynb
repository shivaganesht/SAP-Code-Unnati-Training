{
 "cells": [
  {
   "cell_type": "code",
   "execution_count": 38,
   "id": "1594ab7e",
   "metadata": {},
   "outputs": [],
   "source": [
    "def print_name(str):\n",
    "    wel=(\"Welcome to Python\",str)\n",
    "    return wel"
   ]
  },
  {
   "cell_type": "code",
   "execution_count": 39,
   "id": "82bfb1cc",
   "metadata": {},
   "outputs": [],
   "source": [
    "def name():\n",
    "    name_str=input(\"Enter your name: \")\n",
    "    Out=print_name(name_str)\n",
    "    print(Out)"
   ]
  },
  {
   "cell_type": "code",
   "execution_count": 40,
   "id": "166ef653",
   "metadata": {},
   "outputs": [],
   "source": [
    "def hello(n1,n2):\n",
    "    roll_str=input(\"Enter your Roll Number: \")\n",
    "    Roll=n1, n2(roll_str)\n",
    "    print(Roll)"
   ]
  },
  {
   "cell_type": "code",
   "execution_count": 41,
   "id": "7d339af0",
   "metadata": {},
   "outputs": [
    {
     "name": "stdout",
     "output_type": "stream",
     "text": [
      "('Welcome to Python', 'shiva ganesh')\n"
     ]
    },
    {
     "ename": "TypeError",
     "evalue": "name() takes 0 positional arguments but 1 was given",
     "output_type": "error",
     "traceback": [
      "\u001b[1;31m---------------------------------------------------------------------------\u001b[0m",
      "\u001b[1;31mTypeError\u001b[0m                                 Traceback (most recent call last)",
      "\u001b[1;32m~\\AppData\\Local\\Temp\\ipykernel_17684\\1290228322.py\u001b[0m in \u001b[0;36m<module>\u001b[1;34m\u001b[0m\n\u001b[0;32m      1\u001b[0m \u001b[0mname\u001b[0m\u001b[1;33m(\u001b[0m\u001b[1;33m)\u001b[0m\u001b[1;33m\u001b[0m\u001b[1;33m\u001b[0m\u001b[0m\n\u001b[1;32m----> 2\u001b[1;33m \u001b[0mhello\u001b[0m\u001b[1;33m(\u001b[0m\u001b[0mprint_name\u001b[0m\u001b[1;33m,\u001b[0m\u001b[0mname\u001b[0m\u001b[1;33m)\u001b[0m\u001b[1;33m\u001b[0m\u001b[1;33m\u001b[0m\u001b[0m\n\u001b[0m",
      "\u001b[1;32m~\\AppData\\Local\\Temp\\ipykernel_17684\\168098943.py\u001b[0m in \u001b[0;36mhello\u001b[1;34m(n1, n2)\u001b[0m\n\u001b[0;32m      1\u001b[0m \u001b[1;32mdef\u001b[0m \u001b[0mhello\u001b[0m\u001b[1;33m(\u001b[0m\u001b[0mn1\u001b[0m\u001b[1;33m,\u001b[0m\u001b[0mn2\u001b[0m\u001b[1;33m)\u001b[0m\u001b[1;33m:\u001b[0m\u001b[1;33m\u001b[0m\u001b[1;33m\u001b[0m\u001b[0m\n\u001b[0;32m      2\u001b[0m     \u001b[0mroll_str\u001b[0m\u001b[1;33m=\u001b[0m\u001b[0minput\u001b[0m\u001b[1;33m(\u001b[0m\u001b[1;34m\"Enter your Roll Number: \"\u001b[0m\u001b[1;33m)\u001b[0m\u001b[1;33m\u001b[0m\u001b[1;33m\u001b[0m\u001b[0m\n\u001b[1;32m----> 3\u001b[1;33m     \u001b[0mRoll\u001b[0m\u001b[1;33m=\u001b[0m\u001b[0mn1\u001b[0m\u001b[1;33m,\u001b[0m \u001b[0mn2\u001b[0m\u001b[1;33m(\u001b[0m\u001b[0mroll_str\u001b[0m\u001b[1;33m)\u001b[0m\u001b[1;33m\u001b[0m\u001b[1;33m\u001b[0m\u001b[0m\n\u001b[0m\u001b[0;32m      4\u001b[0m     \u001b[0mprint\u001b[0m\u001b[1;33m(\u001b[0m\u001b[0mRoll\u001b[0m\u001b[1;33m)\u001b[0m\u001b[1;33m\u001b[0m\u001b[1;33m\u001b[0m\u001b[0m\n",
      "\u001b[1;31mTypeError\u001b[0m: name() takes 0 positional arguments but 1 was given"
     ]
    }
   ],
   "source": [
    "name()\n",
    "hello(print_name,name)"
   ]
  },
  {
   "cell_type": "code",
   "execution_count": null,
   "id": "eb7a9662",
   "metadata": {},
   "outputs": [],
   "source": [
    "def find_square(num):\n",
    "    result = num*num\n",
    "    return result"
   ]
  },
  {
   "cell_type": "code",
   "execution_count": null,
   "id": "cfd99ad1",
   "metadata": {},
   "outputs": [
    {
     "data": {
      "text/plain": [
       "4"
      ]
     },
     "execution_count": 37,
     "metadata": {},
     "output_type": "execute_result"
    }
   ],
   "source": [
    "find_square(2)"
   ]
  },
  {
   "cell_type": "markdown",
   "id": "5025fae2",
   "metadata": {},
   "source": [
    "2nd q"
   ]
  },
  {
   "cell_type": "code",
   "execution_count": 62,
   "id": "9fd72410",
   "metadata": {},
   "outputs": [],
   "source": [
    "def archana(gotram, name1, name2, name3, name4):\n",
    "    return f\"{gotram}, {name1}, {name2}, {name3}, {name4}\"\n",
    "\n"
   ]
  },
  {
   "cell_type": "code",
   "execution_count": 63,
   "id": "c4c0fb27",
   "metadata": {},
   "outputs": [
    {
     "name": "stdout",
     "output_type": "stream",
     "text": [
      "shiva, hari, asha, shiva, leeshu\n"
     ]
    },
    {
     "data": {
      "text/plain": [
       "'shiva, hari, asha, shiva, leeshu'"
      ]
     },
     "execution_count": 63,
     "metadata": {},
     "output_type": "execute_result"
    }
   ],
   "source": [
    "gotram=input(\"Enter your Gotram: \")\n",
    "name1=input(\"Enter Name: \")\n",
    "name2=input(\"Enter Name: \")\n",
    "name3=input(\"Enter Name: \")\n",
    "name4=input(\"Enter Name: \")\n",
    "result = archana(gotram, name1, name2, name3, name4)\n",
    "print(result)\n",
    "\n",
    "archana(gotram, name1, name2, name3, name4)"
   ]
  },
  {
   "cell_type": "markdown",
   "id": "5f12b2ed",
   "metadata": {},
   "source": [
    "3rd q"
   ]
  },
  {
   "cell_type": "code",
   "execution_count": 65,
   "id": "b75c27c5",
   "metadata": {},
   "outputs": [
    {
     "name": "stdout",
     "output_type": "stream",
     "text": [
      "Hello, John Doe!\n",
      "None\n"
     ]
    }
   ],
   "source": [
    "def greet(first_name, last_name='Doe'):\n",
    "    print(f\"Hello, {first_name} {last_name}!\")\n",
    "result=greet('John')\n",
    "print(result)"
   ]
  }
 ],
 "metadata": {
  "kernelspec": {
   "display_name": "Python 3",
   "language": "python",
   "name": "python3"
  },
  "language_info": {
   "codemirror_mode": {
    "name": "ipython",
    "version": 3
   },
   "file_extension": ".py",
   "mimetype": "text/x-python",
   "name": "python",
   "nbconvert_exporter": "python",
   "pygments_lexer": "ipython3",
   "version": "3.7.6"
  }
 },
 "nbformat": 4,
 "nbformat_minor": 5
}
