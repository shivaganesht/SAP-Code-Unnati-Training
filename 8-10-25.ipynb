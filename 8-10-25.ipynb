{
 "cells": [
  {
   "cell_type": "markdown",
   "id": "f9b0c729",
   "metadata": {},
   "source": [
    "Data Preprocessing"
   ]
  },
  {
   "cell_type": "markdown",
   "id": "ab9670a8",
   "metadata": {},
   "source": [
    "Introduction to NumPy & Pandas"
   ]
  },
  {
   "cell_type": "code",
   "execution_count": null,
   "id": "c157dacd",
   "metadata": {},
   "outputs": [],
   "source": [
    "#basics\n",
    "import numpy as np"
   ]
  },
  {
   "cell_type": "markdown",
   "id": "71786358",
   "metadata": {},
   "source": [
    "Numpy Datatypes"
   ]
  },
  {
   "cell_type": "code",
   "execution_count": 2,
   "id": "a3623085",
   "metadata": {},
   "outputs": [
    {
     "name": "stdout",
     "output_type": "stream",
     "text": [
      "[1, 2, 3, 4]\n",
      "<class 'list'>\n"
     ]
    }
   ],
   "source": [
    "list=[1,2,3,4]\n",
    "print(list)\n",
    "print(type(list))"
   ]
  },
  {
   "cell_type": "code",
   "execution_count": 5,
   "id": "a6dfc2d8",
   "metadata": {},
   "outputs": [
    {
     "name": "stdout",
     "output_type": "stream",
     "text": [
      "[1 2 3 4]\n",
      "int32\n"
     ]
    }
   ],
   "source": [
    "arr=np.array([1,2,3,4])\n",
    "print(arr)\n",
    "print(arr.dtype)"
   ]
  },
  {
   "cell_type": "code",
   "execution_count": 6,
   "id": "c8001fbd",
   "metadata": {},
   "outputs": [
    {
     "name": "stdout",
     "output_type": "stream",
     "text": [
      "[1 2 3 4 5]\n",
      "<class 'numpy.ndarray'>\n"
     ]
    }
   ],
   "source": [
    "arr=np.array((1,2,3,4,5))\n",
    "print(arr)\n",
    "print(type(arr))"
   ]
  },
  {
   "cell_type": "markdown",
   "id": "bb821049",
   "metadata": {},
   "source": [
    "Let's see the different dimentional array\n",
    "1-D Array"
   ]
  },
  {
   "cell_type": "code",
   "execution_count": 8,
   "id": "77c6f1e3",
   "metadata": {},
   "outputs": [
    {
     "name": "stdout",
     "output_type": "stream",
     "text": [
      "42\n"
     ]
    }
   ],
   "source": [
    "arr=np.array(42)\n",
    "print(arr)"
   ]
  },
  {
   "cell_type": "code",
   "execution_count": 9,
   "id": "03fb88b3",
   "metadata": {},
   "outputs": [
    {
     "name": "stdout",
     "output_type": "stream",
     "text": [
      "[1 2 3 4 5]\n",
      "[1 2 3 4 5]\n"
     ]
    }
   ],
   "source": [
    "arr=np.array([1,2,3,4,5])\n",
    "arr1=np.asarray([1,2,3,4,5])\n",
    "print(arr)\n",
    "print(arr1)"
   ]
  },
  {
   "cell_type": "markdown",
   "id": "04e497a7",
   "metadata": {},
   "source": [
    "2-D Array"
   ]
  },
  {
   "cell_type": "code",
   "execution_count": 10,
   "id": "8028f5b5",
   "metadata": {},
   "outputs": [
    {
     "name": "stdout",
     "output_type": "stream",
     "text": [
      "[[1 2 3]\n",
      " [4 5 6]]\n"
     ]
    }
   ],
   "source": [
    "arr=np.array([[1,2,3],[4,5,6]])\n",
    "print(arr)"
   ]
  },
  {
   "cell_type": "code",
   "execution_count": 17,
   "id": "524ca3c6",
   "metadata": {},
   "outputs": [
    {
     "name": "stdout",
     "output_type": "stream",
     "text": [
      "[[[1 2 3]\n",
      "  [4 5 6]]\n",
      "\n",
      " [[1 2 3]\n",
      "  [4 5 6]]]\n",
      "3\n"
     ]
    }
   ],
   "source": [
    "arr=np.array([[[1,2,3],[4,5,6]],[[1,2,3],[4,5,6]]])\n",
    "print(arr)\n",
    "#print the dimension of array\n",
    "print(arr.ndim)"
   ]
  },
  {
   "cell_type": "code",
   "execution_count": 21,
   "id": "9c9c4db6",
   "metadata": {},
   "outputs": [
    {
     "name": "stdout",
     "output_type": "stream",
     "text": [
      "[[1 2 3]\n",
      " [4 5 6]]\n",
      "2\n",
      "[[ 7  8  9]\n",
      " [10 11 12]]\n",
      "2\n",
      "[[13 14 15]\n",
      " [16 17 18]]\n",
      "2\n"
     ]
    }
   ],
   "source": [
    "a=np.array([[1,2,3],[4,5,6]])\n",
    "b=np.array([[7,8,9],[10,11,12]])\n",
    "c=np.array([[13,14,15],[16,17,18]])\n",
    "#print the arrays\n",
    "print(a)\n",
    "#dimension of array\n",
    "print(a.ndim)\n",
    "print(b)\n",
    "print(b.ndim)\n",
    "print(c)\n",
    "print(c.ndim)"
   ]
  },
  {
   "cell_type": "markdown",
   "id": "073383ac",
   "metadata": {},
   "source": [
    "NPY File Saving"
   ]
  },
  {
   "cell_type": "code",
   "execution_count": 24,
   "id": "598c1a84",
   "metadata": {},
   "outputs": [
    {
     "name": "stdout",
     "output_type": "stream",
     "text": [
      "[[1 2 3]\n",
      " [4 5 6]]\n"
     ]
    }
   ],
   "source": [
    "np.save('my_array.npy',a)\n",
    "b=np.load('my_array.npy')\n",
    "print(b)"
   ]
  },
  {
   "cell_type": "markdown",
   "id": "00271655",
   "metadata": {},
   "source": [
    "Pickle\n",
    "savetxt()"
   ]
  },
  {
   "cell_type": "code",
   "execution_count": 25,
   "id": "bbaf30ee",
   "metadata": {},
   "outputs": [
    {
     "name": "stdout",
     "output_type": "stream",
     "text": [
      "[1. 2. 3. 4. 5.]\n",
      "<class 'numpy.ndarray'>\n"
     ]
    }
   ],
   "source": [
    "a=np.array([1,2,3,4,5])\n",
    "np.savetxt('my_array.txt',a)\n",
    "b=np.loadtxt('my_array.txt')\n",
    "print(b)\n",
    "print(type(b))"
   ]
  },
  {
   "cell_type": "markdown",
   "id": "a6c20470",
   "metadata": {},
   "source": [
    "Indexing"
   ]
  },
  {
   "cell_type": "code",
   "execution_count": 26,
   "id": "fba8b827",
   "metadata": {},
   "outputs": [
    {
     "name": "stdout",
     "output_type": "stream",
     "text": [
      "Elements of array: [1 3 5 7 9]\n",
      "Indexed Elements of array arr: [9 1 5 9 7]\n"
     ]
    }
   ],
   "source": [
    "arr=np.arange(1,10,2)\n",
    "print(\"Elements of array:\",arr)\n",
    "arr1=arr[np.array([4,0,2,-1,-2])]\n",
    "print(\"Indexed Elements of array arr:\",arr1)"
   ]
  },
  {
   "cell_type": "markdown",
   "id": "6560be01",
   "metadata": {},
   "source": [
    "Indexing in 1-D"
   ]
  },
  {
   "cell_type": "code",
   "execution_count": null,
   "id": "b402aac8",
   "metadata": {},
   "outputs": [
    {
     "name": "stdout",
     "output_type": "stream",
     "text": [
      "Array arr11:  [0 1 2 3]\n",
      "Element at index 0:  0\n",
      "Element at index 1:  1\n"
     ]
    }
   ],
   "source": [
    "arr=np.arange(12)\n",
    "arr1=np.arange(4)\n",
    "print(\"Array arr11: \",arr1)\n",
    "print(\"Element at index 0: \",arr1[0])\n",
    "print(\"Element at index 1: \",arr1[1])"
   ]
  },
  {
   "cell_type": "markdown",
   "id": "04da78b4",
   "metadata": {},
   "source": [
    "Indexing in 2-D"
   ]
  },
  {
   "cell_type": "code",
   "execution_count": 31,
   "id": "de078446",
   "metadata": {},
   "outputs": [
    {
     "name": "stdout",
     "output_type": "stream",
     "text": [
      "[ 0  1  2  3  4  5  6  7  8  9 10 11]\n",
      "Array arr1: \n",
      " [[ 0  1  2  3]\n",
      " [ 4  5  6  7]\n",
      " [ 8  9 10 11]]\n",
      "Element at 0th row and 0th column:  0\n",
      "Element at 1st row and 2nd column:  6\n",
      "Element at 2nd row and 2nd column:  10\n"
     ]
    }
   ],
   "source": [
    "arr=np.arange(12)\n",
    "arr1=arr.reshape(3,4)\n",
    "print(arr)\n",
    "print(\"Array arr1: \\n\",arr1)\n",
    "print(\"Element at 0th row and 0th column: \",arr1[0,0])\n",
    "print(\"Element at 1st row and 2nd column: \",arr1[1,2])\n",
    "print(\"Element at 2nd row and 2nd column: \",arr1[2,2])"
   ]
  },
  {
   "cell_type": "markdown",
   "id": "152ee4e9",
   "metadata": {},
   "source": [
    "Indexing in 3-D"
   ]
  },
  {
   "cell_type": "markdown",
   "id": "82c80964",
   "metadata": {},
   "source": [
    "(*Explained how to read a code also)"
   ]
  },
  {
   "cell_type": "code",
   "execution_count": 32,
   "id": "5f90ca22",
   "metadata": {},
   "outputs": [
    {
     "name": "stdout",
     "output_type": "stream",
     "text": [
      "Array arr1: \n",
      " [[[ 0  1  2]\n",
      "  [ 3  4  5]]\n",
      "\n",
      " [[ 6  7  8]\n",
      "  [ 9 10 11]]]\n",
      "Element:  8\n"
     ]
    }
   ],
   "source": [
    "arr=np.arange(12)\n",
    "arr1=arr.reshape(2,2,3)\n",
    "print(\"Array arr1: \\n\",arr1)\n",
    "print(\"Element: \",arr1[1,0,2])"
   ]
  },
  {
   "cell_type": "markdown",
   "id": "701a90e4",
   "metadata": {},
   "source": [
    "Slicing an Array"
   ]
  },
  {
   "cell_type": "code",
   "execution_count": 45,
   "id": "ae08c446",
   "metadata": {},
   "outputs": [
    {
     "name": "stdout",
     "output_type": "stream",
     "text": [
      "Array arr1: \n",
      " [[ 0  1  2  3]\n",
      " [ 4  5  6  7]\n",
      " [ 8  9 10 11]]\n",
      "\n",
      "\n",
      "Elements at 1st row and 1st column upto last column: [5 6 7]\n",
      "Elements at 2nd row and 0th column upto last column: [[ 8  9 10 11]]\n"
     ]
    }
   ],
   "source": [
    "arr=np.arange(12)\n",
    "arr1=arr.reshape(3,4)\n",
    "print(\"Array arr1: \\n\",arr1)\n",
    "print(\"\\n\")\n",
    "print(\"Elements at 1st row and 1st column upto last column:\",arr1[1,1:4])\n",
    "print(\"Elements at 2nd row and 0th column upto last column:\",arr1[2:,0:4])"
   ]
  },
  {
   "cell_type": "markdown",
   "id": "d465ef5d",
   "metadata": {},
   "source": [
    "Broadcasting [Skipped]"
   ]
  },
  {
   "cell_type": "markdown",
   "id": "ad4e60a1",
   "metadata": {},
   "source": [
    "Structured Arrays"
   ]
  },
  {
   "cell_type": "code",
   "execution_count": 56,
   "id": "a76908ef",
   "metadata": {},
   "outputs": [
    {
     "name": "stdout",
     "output_type": "stream",
     "text": [
      "[('Shiva Gane', 22, 21.) ('Talikota',  7, 29.)]\n"
     ]
    }
   ],
   "source": [
    "a=np.array([('Shiva Ganesh', 22, 21.0), ('Talikota',7, 29.0)],\n",
    "           dtype = [('Name', (np. str_, 10)), ('Age', np.int32), ('Weight', np.float64)])\n",
    "print(a)"
   ]
  }
 ],
 "metadata": {
  "kernelspec": {
   "display_name": "Python 3",
   "language": "python",
   "name": "python3"
  },
  "language_info": {
   "codemirror_mode": {
    "name": "ipython",
    "version": 3
   },
   "file_extension": ".py",
   "mimetype": "text/x-python",
   "name": "python",
   "nbconvert_exporter": "python",
   "pygments_lexer": "ipython3",
   "version": "3.7.6"
  }
 },
 "nbformat": 4,
 "nbformat_minor": 5
}
